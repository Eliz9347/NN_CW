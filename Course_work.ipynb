{
 "cells": [
  {
   "cell_type": "markdown",
   "metadata": {},
   "source": [
    "Импортируем необходимые библиотеки"
   ]
  },
  {
   "cell_type": "code",
   "execution_count": 8,
   "metadata": {},
   "outputs": [],
   "source": [
    "import numpy as np\n",
    "import matplotlib.pyplot as plt\n",
    "from tensorflow.keras.datasets import mnist         # библиотека базы выборок Mnist\n",
    "from tensorflow import keras\n",
    "from tensorflow.keras.layers import Dense, Flatten, Reshape, Input\n",
    "from keras.models import Model"
   ]
  },
  {
   "cell_type": "markdown",
   "metadata": {},
   "source": [
    "Загружаем датасет рукописных цифр MNIST"
   ]
  },
  {
   "cell_type": "code",
   "execution_count": 2,
   "metadata": {},
   "outputs": [
    {
     "name": "stdout",
     "output_type": "stream",
     "text": [
      "Downloading data from https://storage.googleapis.com/tensorflow/tf-keras-datasets/mnist.npz\n",
      "11493376/11490434 [==============================] - 2s 0us/step\n"
     ]
    }
   ],
   "source": [
    "(x_train, y_train), (x_test, y_test) = mnist.load_data()"
   ]
  },
  {
   "cell_type": "markdown",
   "metadata": {},
   "source": [
    "Стандартизация входных данных"
   ]
  },
  {
   "cell_type": "code",
   "execution_count": 3,
   "metadata": {},
   "outputs": [],
   "source": [
    "x_train = x_train.astype('float32') / 255.\n",
    "x_test  = x_test .astype('float32') / 255.\n",
    "x_train = np.reshape(x_train, (len(x_train), 28, 28, 1))\n",
    "x_test  = np.reshape(x_test,  (len(x_test),  28, 28, 1))"
   ]
  },
  {
   "cell_type": "code",
   "execution_count": 6,
   "metadata": {},
   "outputs": [],
   "source": [
    "def create_dense_ae():\n",
    "    # Размерность кодированного представления\n",
    "    encoding_dim = 49\n",
    "\n",
    "    # Энкодер\n",
    "    # Входной плейсхолдер\n",
    "    input_img = Input(shape=(28, 28, 1)) # 28, 28, 1 - размерности строк, столбцов, фильтров одной картинки, без батч-размерности\n",
    "    # Вспомогательный слой решейпинга\n",
    "    flat_img = Flatten()(input_img)\n",
    "    # Кодированное полносвязным слоем представление\n",
    "    encoded = Dense(encoding_dim, activation='relu')(flat_img)\n",
    "    \n",
    "    # Декодер\n",
    "    # Раскодированное другим полносвязным слоем изображение\n",
    "    input_encoded = Input(shape=(encoding_dim,))\n",
    "    flat_decoded = Dense(28*28, activation='sigmoid')(input_encoded)\n",
    "    decoded = Reshape((28, 28, 1))(flat_decoded)\n",
    "\n",
    "    # Модели, в конструктор первым аргументом передаются входные слои, а вторым выходные слои\n",
    "    # Другие модели можно так же использовать как и слои\n",
    "    encoder = Model(input_img, encoded, name=\"encoder\")\n",
    "    decoder = Model(input_encoded, decoded, name=\"decoder\")\n",
    "    autoencoder = Model(input_img, decoder(encoder(input_img)), name=\"autoencoder\")\n",
    "    return encoder, decoder, autoencoder"
   ]
  },
  {
   "cell_type": "code",
   "execution_count": 9,
   "metadata": {},
   "outputs": [],
   "source": [
    "encoder, decoder, autoencoder = create_dense_ae()\n",
    "autoencoder.compile(optimizer='adam', loss='binary_crossentropy')"
   ]
  },
  {
   "cell_type": "code",
   "execution_count": 10,
   "metadata": {},
   "outputs": [
    {
     "name": "stdout",
     "output_type": "stream",
     "text": [
      "Model: \"autoencoder\"\n",
      "_________________________________________________________________\n",
      "Layer (type)                 Output Shape              Param #   \n",
      "=================================================================\n",
      "input_3 (InputLayer)         [(None, 28, 28, 1)]       0         \n",
      "_________________________________________________________________\n",
      "encoder (Functional)         (None, 49)                38465     \n",
      "_________________________________________________________________\n",
      "decoder (Functional)         (None, 28, 28, 1)         39200     \n",
      "=================================================================\n",
      "Total params: 77,665\n",
      "Trainable params: 77,665\n",
      "Non-trainable params: 0\n",
      "_________________________________________________________________\n"
     ]
    }
   ],
   "source": [
    "autoencoder.summary()"
   ]
  },
  {
   "cell_type": "code",
   "execution_count": 11,
   "metadata": {},
   "outputs": [
    {
     "name": "stdout",
     "output_type": "stream",
     "text": [
      "Epoch 1/50\n",
      "235/235 [==============================] - 2s 7ms/step - loss: 0.2561 - val_loss: 0.1670\n",
      "Epoch 2/50\n",
      "235/235 [==============================] - 1s 6ms/step - loss: 0.1502 - val_loss: 0.1348\n",
      "Epoch 3/50\n",
      "235/235 [==============================] - 1s 6ms/step - loss: 0.1271 - val_loss: 0.1181\n",
      "Epoch 4/50\n",
      "235/235 [==============================] - 1s 6ms/step - loss: 0.1130 - val_loss: 0.1062\n",
      "Epoch 5/50\n",
      "235/235 [==============================] - 2s 6ms/step - loss: 0.1030 - val_loss: 0.0978\n",
      "Epoch 6/50\n",
      "235/235 [==============================] - 2s 8ms/step - loss: 0.0957 - val_loss: 0.0917\n",
      "Epoch 7/50\n",
      "235/235 [==============================] - 1s 6ms/step - loss: 0.0905 - val_loss: 0.0876\n",
      "Epoch 8/50\n",
      "235/235 [==============================] - 1s 6ms/step - loss: 0.0870 - val_loss: 0.0846\n",
      "Epoch 9/50\n",
      "235/235 [==============================] - 1s 5ms/step - loss: 0.0846 - val_loss: 0.0827\n",
      "Epoch 10/50\n",
      "235/235 [==============================] - 1s 5ms/step - loss: 0.0831 - val_loss: 0.0815\n",
      "Epoch 11/50\n",
      "235/235 [==============================] - 1s 6ms/step - loss: 0.0820 - val_loss: 0.0807\n",
      "Epoch 12/50\n",
      "235/235 [==============================] - 2s 7ms/step - loss: 0.0813 - val_loss: 0.0801\n",
      "Epoch 13/50\n",
      "235/235 [==============================] - 1s 6ms/step - loss: 0.0808 - val_loss: 0.0797\n",
      "Epoch 14/50\n",
      "235/235 [==============================] - 1s 5ms/step - loss: 0.0804 - val_loss: 0.0794\n",
      "Epoch 15/50\n",
      "235/235 [==============================] - 1s 5ms/step - loss: 0.0801 - val_loss: 0.0791\n",
      "Epoch 16/50\n",
      "235/235 [==============================] - 1s 5ms/step - loss: 0.0799 - val_loss: 0.0789\n",
      "Epoch 17/50\n",
      "235/235 [==============================] - 1s 6ms/step - loss: 0.0797 - val_loss: 0.0789\n",
      "Epoch 18/50\n",
      "235/235 [==============================] - 1s 6ms/step - loss: 0.0796 - val_loss: 0.0787\n",
      "Epoch 19/50\n",
      "235/235 [==============================] - 1s 5ms/step - loss: 0.0794 - val_loss: 0.0787\n",
      "Epoch 20/50\n",
      "235/235 [==============================] - 1s 6ms/step - loss: 0.0793 - val_loss: 0.0785\n",
      "Epoch 21/50\n",
      "235/235 [==============================] - 1s 5ms/step - loss: 0.0792 - val_loss: 0.0784\n",
      "Epoch 22/50\n",
      "235/235 [==============================] - 1s 5ms/step - loss: 0.0792 - val_loss: 0.0783\n",
      "Epoch 23/50\n",
      "235/235 [==============================] - 1s 5ms/step - loss: 0.0791 - val_loss: 0.0783\n",
      "Epoch 24/50\n",
      "235/235 [==============================] - 1s 5ms/step - loss: 0.0791 - val_loss: 0.0783\n",
      "Epoch 25/50\n",
      "235/235 [==============================] - 1s 5ms/step - loss: 0.0790 - val_loss: 0.0782\n",
      "Epoch 26/50\n",
      "235/235 [==============================] - 1s 5ms/step - loss: 0.0789 - val_loss: 0.0782\n",
      "Epoch 27/50\n",
      "235/235 [==============================] - 1s 5ms/step - loss: 0.0789 - val_loss: 0.0781\n",
      "Epoch 28/50\n",
      "235/235 [==============================] - 1s 5ms/step - loss: 0.0789 - val_loss: 0.0781\n",
      "Epoch 29/50\n",
      "235/235 [==============================] - 2s 7ms/step - loss: 0.0788 - val_loss: 0.0781\n",
      "Epoch 30/50\n",
      "235/235 [==============================] - 2s 7ms/step - loss: 0.0788 - val_loss: 0.0781\n",
      "Epoch 31/50\n",
      "235/235 [==============================] - 2s 6ms/step - loss: 0.0788 - val_loss: 0.0780\n",
      "Epoch 32/50\n",
      "235/235 [==============================] - 1s 5ms/step - loss: 0.0787 - val_loss: 0.0780\n",
      "Epoch 33/50\n",
      "235/235 [==============================] - 1s 6ms/step - loss: 0.0787 - val_loss: 0.0781\n",
      "Epoch 34/50\n",
      "235/235 [==============================] - 1s 5ms/step - loss: 0.0787 - val_loss: 0.0780\n",
      "Epoch 35/50\n",
      "235/235 [==============================] - 1s 5ms/step - loss: 0.0787 - val_loss: 0.0779\n",
      "Epoch 36/50\n",
      "235/235 [==============================] - 1s 5ms/step - loss: 0.0786 - val_loss: 0.0780\n",
      "Epoch 37/50\n",
      "235/235 [==============================] - 1s 5ms/step - loss: 0.0786 - val_loss: 0.0779\n",
      "Epoch 38/50\n",
      "235/235 [==============================] - 1s 6ms/step - loss: 0.0786 - val_loss: 0.0779\n",
      "Epoch 39/50\n",
      "235/235 [==============================] - 1s 6ms/step - loss: 0.0786 - val_loss: 0.0779\n",
      "Epoch 40/50\n",
      "235/235 [==============================] - 1s 6ms/step - loss: 0.0785 - val_loss: 0.0779\n",
      "Epoch 41/50\n",
      "235/235 [==============================] - 2s 7ms/step - loss: 0.0785 - val_loss: 0.0779\n",
      "Epoch 42/50\n",
      "235/235 [==============================] - 1s 6ms/step - loss: 0.0785 - val_loss: 0.0778\n",
      "Epoch 43/50\n",
      "235/235 [==============================] - 1s 6ms/step - loss: 0.0785 - val_loss: 0.0778\n",
      "Epoch 44/50\n",
      "235/235 [==============================] - 1s 6ms/step - loss: 0.0785 - val_loss: 0.0778\n",
      "Epoch 45/50\n",
      "235/235 [==============================] - 1s 5ms/step - loss: 0.0785 - val_loss: 0.0778\n",
      "Epoch 46/50\n",
      "235/235 [==============================] - 1s 6ms/step - loss: 0.0785 - val_loss: 0.0778\n",
      "Epoch 47/50\n",
      "235/235 [==============================] - 1s 6ms/step - loss: 0.0785 - val_loss: 0.0778\n",
      "Epoch 48/50\n",
      "235/235 [==============================] - 1s 5ms/step - loss: 0.0784 - val_loss: 0.0778\n",
      "Epoch 49/50\n",
      "235/235 [==============================] - 1s 6ms/step - loss: 0.0784 - val_loss: 0.0778\n",
      "Epoch 50/50\n",
      "235/235 [==============================] - 1s 6ms/step - loss: 0.0784 - val_loss: 0.0778\n"
     ]
    },
    {
     "data": {
      "text/plain": [
       "<tensorflow.python.keras.callbacks.History at 0x245990e5c48>"
      ]
     },
     "execution_count": 11,
     "metadata": {},
     "output_type": "execute_result"
    }
   ],
   "source": [
    "# Обучаем автоэнкодер\n",
    "autoencoder.fit(x_train, x_train,\n",
    "                epochs=50,\n",
    "                batch_size=256,\n",
    "                shuffle=True,\n",
    "                validation_data=(x_test, x_test))"
   ]
  },
  {
   "cell_type": "code",
   "execution_count": 12,
   "metadata": {},
   "outputs": [],
   "source": [
    "%matplotlib inline\n",
    "import seaborn as sns\n",
    "\n",
    "def plot_digits(*args):\n",
    "    args = [x.squeeze() for x in args]\n",
    "    n = min([x.shape[0] for x in args])\n",
    "    \n",
    "    plt.figure(figsize=(2*n, 2*len(args)))\n",
    "    for j in range(n):\n",
    "        for i in range(len(args)):\n",
    "            ax = plt.subplot(len(args), n, i*n + j + 1)\n",
    "            plt.imshow(args[i][j])\n",
    "            plt.gray()\n",
    "            ax.get_xaxis().set_visible(False)\n",
    "            ax.get_yaxis().set_visible(False)\n",
    "\n",
    "    plt.show()"
   ]
  },
  {
   "cell_type": "code",
   "execution_count": 14,
   "metadata": {},
   "outputs": [
    {
     "data": {
      "text/plain": [
       "array([ 5.4779906 ,  9.424508  , 10.147998  ,  6.871651  ,  8.019818  ,\n",
       "        4.1986384 ,  3.8117218 , 12.020516  ,  5.144059  ,  9.393641  ,\n",
       "        4.44069   , 10.772218  ,  5.881055  ,  4.0304995 ,  2.215274  ,\n",
       "        4.5933375 ,  7.396714  ,  6.9128375 ,  3.7257833 ,  5.4652452 ,\n",
       "        6.029265  ,  3.440629  ,  6.6382527 ,  8.671874  ,  8.893194  ,\n",
       "        9.548243  , 12.05024   ,  3.410963  ,  6.98715   ,  5.965678  ,\n",
       "        7.3404036 ,  3.5615637 ,  6.0897202 , 12.267943  ,  9.733301  ,\n",
       "        8.351767  ,  5.960986  ,  4.6672378 ,  9.733847  ,  0.12574029,\n",
       "        5.120209  ,  4.466484  ,  3.697795  ,  3.829916  ,  5.172345  ,\n",
       "        5.5979886 ,  2.2929482 ,  4.3858852 ,  3.8914962 ], dtype=float32)"
      ]
     },
     "execution_count": 14,
     "metadata": {},
     "output_type": "execute_result"
    }
   ],
   "source": [
    "n = 20\n",
    "imgs = x_test[:n]\n",
    "encoded_imgs = encoder.predict(imgs, batch_size=n)\n",
    "encoded_imgs[0]"
   ]
  },
  {
   "cell_type": "code",
   "execution_count": 15,
   "metadata": {},
   "outputs": [
    {
     "data": {
      "image/png": "[encoded data removed]",
      "text/plain": [
       "<Figure size 1440x288 with 20 Axes>"
      ]
     },
     "metadata": {
      "needs_background": "light"
     },
     "output_type": "display_data"
    }
   ],
   "source": [
    "decoded_imgs = decoder.predict(encoded_imgs, batch_size=n)\n",
    "\n",
    "plot_digits(imgs, decoded_imgs)"
   ]
  },
  {
   "cell_type": "code",
   "execution_count": null,
   "metadata": {},
   "outputs": [],
   "source": []
  }
 ],
 "metadata": {
  "kernelspec": {
   "display_name": "Python 3",
   "language": "python",
   "name": "python3"
  },
  "language_info": {
   "codemirror_mode": {
    "name": "ipython",
    "version": 3
   },
   "file_extension": ".py",
   "mimetype": "text/x-python",
   "name": "python",
   "nbconvert_exporter": "python",
   "pygments_lexer": "ipython3",
   "version": "3.7.9"
  }
 },
 "nbformat": 4,
 "nbformat_minor": 4
}
